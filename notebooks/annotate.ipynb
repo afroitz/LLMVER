{
 "cells": [
  {
   "cell_type": "code",
   "execution_count": 15,
   "metadata": {
    "collapsed": false,
    "pycharm": {
     "name": "#%%\n"
    }
   },
   "outputs": [
    {
     "name": "stdout",
     "output_type": "stream",
     "text": [
      "The dotenv extension is already loaded. To reload it, use:\n",
      "  %reload_ext dotenv\n"
     ]
    }
   ],
   "source": [
    "import pandas as pd\n",
    "from nltk.tokenize import sent_tokenize\n",
    "from openai import OpenAI\n",
    "import os\n",
    "\n",
    "%load_ext dotenv\n",
    "%dotenv\n",
    "OPENAI_API_KEY = %env OPENAI_API_KEY\n",
    "\n",
    "client = OpenAI(api_key=OPENAI_API_KEY)"
   ]
  },
  {
   "cell_type": "code",
   "execution_count": 18,
   "metadata": {
    "collapsed": true,
    "pycharm": {
     "name": "#%%\n"
    }
   },
   "outputs": [],
   "source": [
    "data_dir = '../data/with-wiki/'\n",
    "out_dir = '../data/annotated/'"
   ]
  },
  {
   "cell_type": "code",
   "execution_count": 14,
   "metadata": {
    "collapsed": false,
    "pycharm": {
     "name": "#%%\n"
    }
   },
   "outputs": [],
   "source": [
    "# read prompt\n",
    "with open(\"../prompts/prompt_v1.txt\", \"r\") as f:\n",
    "    prompt = f.read()\n",
    "\n",
    "\n",
    "def row_to_prompt(row, is_first):\n",
    "    fever_part = f'CLAIM: {row[\"claim\"]}'\n",
    "    ev_sents = sent_tokenize(row[\"evidence_text\"])\n",
    "\n",
    "    for i, sent in enumerate(ev_sents):\n",
    "        fever_part += f\"\\n{i + 1}: {sent}\"\n",
    "\n",
    "    if is_first:\n",
    "        return prompt + fever_part\n",
    "    else:\n",
    "        return fever_part\n",
    "\n",
    "\n",
    "def get_annotation(row):\n",
    "    curr_prompt = row_to_prompt(row, True)\n",
    "\n",
    "    completion = client.chat.completions.create(\n",
    "        model=\"gpt-3.5-turbo\",\n",
    "        messages=[\n",
    "            {\"role\": \"user\", \"content\": curr_prompt},\n",
    "        ],\n",
    "    )\n",
    "\n",
    "    return completion.choices[0].message.content\n",
    "\n",
    "def add_annotations(df):\n",
    "    df[\"annotation\"] = df.apply(get_annotation, axis=1)\n",
    "    return df"
   ]
  },
  {
   "cell_type": "code",
   "execution_count": 19,
   "metadata": {},
   "outputs": [
    {
     "name": "stdout",
     "output_type": "stream",
     "text": [
      "Reading df_with_text_800.csv\n",
      "Reading df_with_text_0.csv\n",
      "Reading df_with_text_900.csv\n",
      "Reading df_with_text_500.csv\n",
      "Reading df_with_text_700.csv\n",
      "Reading df_with_text_300.csv\n",
      "Reading df_with_text_100.csv\n",
      "Reading df_with_text_600.csv\n",
      "Reading df_with_text_400.csv\n",
      "Reading df_with_text_200.csv\n"
     ]
    }
   ],
   "source": [
    "# for each file in data dir, read to df, add annotations, save to new file\n",
    "for filename in os.listdir(data_dir):\n",
    "    print(f\"Reading {filename}\")\n",
    "    df = pd.read_csv(os.path.join(data_dir, filename), sep=';')\n",
    "    df = df[df['evidence_text'].notna()]\n",
    "    df = add_annotations(df)\n",
    "    df.to_csv(os.path.join(out_dir, filename.replace(\".csv\", \"_annotated.csv\")), sep=';')"
   ]
  },
  {
   "cell_type": "code",
   "execution_count": null,
   "metadata": {},
   "outputs": [],
   "source": []
  }
 ],
 "metadata": {
  "kernelspec": {
   "display_name": "Python 3",
   "language": "python",
   "name": "python3"
  },
  "language_info": {
   "codemirror_mode": {
    "name": "ipython",
    "version": 3
   },
   "file_extension": ".py",
   "mimetype": "text/x-python",
   "name": "python",
   "nbconvert_exporter": "python",
   "pygments_lexer": "ipython3",
   "version": "3.9.12"
  }
 },
 "nbformat": 4,
 "nbformat_minor": 0
}
