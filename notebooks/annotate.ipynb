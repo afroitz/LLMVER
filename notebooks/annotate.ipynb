{
 "cells": [
  {
   "cell_type": "code",
   "execution_count": 13,
   "outputs": [
    {
     "name": "stdout",
     "output_type": "stream",
     "text": [
      "The dotenv extension is already loaded. To reload it, use:\n",
      "  %reload_ext dotenv\n"
     ]
    }
   ],
   "source": [
    "import pandas as pd\n",
    "%load_ext dotenv\n",
    "%dotenv\n",
    "OPENAI_API_KEY = %env OPENAI_API_KEY"
   ],
   "metadata": {
    "collapsed": false,
    "pycharm": {
     "name": "#%%\n"
    }
   }
  },
  {
   "cell_type": "code",
   "execution_count": 14,
   "metadata": {
    "collapsed": true,
    "pycharm": {
     "name": "#%%\n"
    }
   },
   "outputs": [],
   "source": [
    "data_path = '../data/test-processed.csv'"
   ]
  },
  {
   "cell_type": "code",
   "execution_count": 15,
   "outputs": [],
   "source": [
    "def annotate():\n",
    "    # make request to openai\n",
    "    pass"
   ],
   "metadata": {
    "collapsed": false,
    "pycharm": {
     "name": "#%%\n"
    }
   }
  },
  {
   "cell_type": "code",
   "execution_count": 5,
   "outputs": [
    {
     "data": {
      "text/plain": "                                               claim  \\\n0  Nikolaj Coster-Waldau worked with the Fox Broa...   \n1  Nikolaj Coster-Waldau worked with the Fox Broa...   \n2                 Roman Atwood is a content creator.   \n3  History of art includes architecture, dance, s...   \n4                  Adrienne Bailon is an accountant.   \n\n                                       orig_evidence     label  \\\n0  [[[92206, 104971, 'Nikolaj_Coster-Waldau', 7],...  SUPPORTS   \n1  [[[92206, 104971, 'Nikolaj_Coster-Waldau', 7],...  SUPPORTS   \n2  [[[174271, 187498, 'Roman_Atwood', 1]], [[1742...  SUPPORTS   \n3          [[[255136, 254645, 'History_of_art', 2]]]  SUPPORTS   \n4         [[[180804, 193183, 'Adrienne_Bailon', 0]]]   REFUTES   \n\n                    article  \\\n0     Nikolaj_Coster-Waldau   \n1  Fox_Broadcasting_Company   \n2              Roman_Atwood   \n3            History_of_art   \n4           Adrienne_Bailon   \n\n                                        article_text  \\\n0  Nikolaj William Coster-Waldau (Danish pronunci...   \n1  The Fox Broadcasting Company, commonly known s...   \n2  Roman Bernard Atwood (born May 28, 1983) is an...   \n3  The history of art focuses on objects made by ...   \n4  Adrienne Eliza Bailon-Houghton (née Bailon ();...   \n\n                                           sentences correct  \n0  ['Nikolaj William Coster-Waldau (Danish pronun...     [7]  \n1  ['The Fox Broadcasting Company, commonly known...     [0]  \n2  ['Roman Bernard Atwood (born May 28, 1983) is ...  [1, 3]  \n3  ['The history of art focuses on objects made b...     [2]  \n4  ['Adrienne Eliza Bailon-Houghton (née Bailon (...     [0]  ",
      "text/html": "<div>\n<style scoped>\n    .dataframe tbody tr th:only-of-type {\n        vertical-align: middle;\n    }\n\n    .dataframe tbody tr th {\n        vertical-align: top;\n    }\n\n    .dataframe thead th {\n        text-align: right;\n    }\n</style>\n<table border=\"1\" class=\"dataframe\">\n  <thead>\n    <tr style=\"text-align: right;\">\n      <th></th>\n      <th>claim</th>\n      <th>orig_evidence</th>\n      <th>label</th>\n      <th>article</th>\n      <th>article_text</th>\n      <th>sentences</th>\n      <th>correct</th>\n    </tr>\n  </thead>\n  <tbody>\n    <tr>\n      <th>0</th>\n      <td>Nikolaj Coster-Waldau worked with the Fox Broa...</td>\n      <td>[[[92206, 104971, 'Nikolaj_Coster-Waldau', 7],...</td>\n      <td>SUPPORTS</td>\n      <td>Nikolaj_Coster-Waldau</td>\n      <td>Nikolaj William Coster-Waldau (Danish pronunci...</td>\n      <td>['Nikolaj William Coster-Waldau (Danish pronun...</td>\n      <td>[7]</td>\n    </tr>\n    <tr>\n      <th>1</th>\n      <td>Nikolaj Coster-Waldau worked with the Fox Broa...</td>\n      <td>[[[92206, 104971, 'Nikolaj_Coster-Waldau', 7],...</td>\n      <td>SUPPORTS</td>\n      <td>Fox_Broadcasting_Company</td>\n      <td>The Fox Broadcasting Company, commonly known s...</td>\n      <td>['The Fox Broadcasting Company, commonly known...</td>\n      <td>[0]</td>\n    </tr>\n    <tr>\n      <th>2</th>\n      <td>Roman Atwood is a content creator.</td>\n      <td>[[[174271, 187498, 'Roman_Atwood', 1]], [[1742...</td>\n      <td>SUPPORTS</td>\n      <td>Roman_Atwood</td>\n      <td>Roman Bernard Atwood (born May 28, 1983) is an...</td>\n      <td>['Roman Bernard Atwood (born May 28, 1983) is ...</td>\n      <td>[1, 3]</td>\n    </tr>\n    <tr>\n      <th>3</th>\n      <td>History of art includes architecture, dance, s...</td>\n      <td>[[[255136, 254645, 'History_of_art', 2]]]</td>\n      <td>SUPPORTS</td>\n      <td>History_of_art</td>\n      <td>The history of art focuses on objects made by ...</td>\n      <td>['The history of art focuses on objects made b...</td>\n      <td>[2]</td>\n    </tr>\n    <tr>\n      <th>4</th>\n      <td>Adrienne Bailon is an accountant.</td>\n      <td>[[[180804, 193183, 'Adrienne_Bailon', 0]]]</td>\n      <td>REFUTES</td>\n      <td>Adrienne_Bailon</td>\n      <td>Adrienne Eliza Bailon-Houghton (née Bailon ();...</td>\n      <td>['Adrienne Eliza Bailon-Houghton (née Bailon (...</td>\n      <td>[0]</td>\n    </tr>\n  </tbody>\n</table>\n</div>"
     },
     "execution_count": 5,
     "metadata": {},
     "output_type": "execute_result"
    }
   ],
   "source": [
    "df = pd.read_csv(data_path, index_col=0)\n",
    "df.head()"
   ],
   "metadata": {
    "collapsed": false,
    "pycharm": {
     "name": "#%%\n"
    }
   }
  }
 ],
 "metadata": {
  "kernelspec": {
   "display_name": "Python 3",
   "language": "python",
   "name": "python3"
  },
  "language_info": {
   "codemirror_mode": {
    "name": "ipython",
    "version": 2
   },
   "file_extension": ".py",
   "mimetype": "text/x-python",
   "name": "python",
   "nbconvert_exporter": "python",
   "pygments_lexer": "ipython2",
   "version": "2.7.6"
  }
 },
 "nbformat": 4,
 "nbformat_minor": 0
}