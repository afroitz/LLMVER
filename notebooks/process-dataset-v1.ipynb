{
 "cells": [
  {
   "cell_type": "markdown",
   "metadata": {
    "collapsed": false,
    "pycharm": {
     "name": "#%% md\n"
    }
   },
   "source": [
    "# Process Dataset\n",
    "This notebook reads the FEVER dataset, retrieves the evidence articles from wikipedia, tokenizes it and outputs the resulting reformatted dataset as CSV."
   ]
  },
  {
   "cell_type": "code",
   "execution_count": 1,
   "metadata": {
    "collapsed": true,
    "pycharm": {
     "name": "#%%\n"
    }
   },
   "outputs": [
    {
     "name": "stderr",
     "output_type": "stream",
     "text": [
      "/Users/alexfroitzheim/opt/anaconda3/lib/python3.9/site-packages/scipy/__init__.py:146: UserWarning: A NumPy version >=1.16.5 and <1.23.0 is required for this version of SciPy (detected version 1.26.3\n",
      "  warnings.warn(f\"A NumPy version >={np_minversion} and <{np_maxversion}\"\n"
     ]
    }
   ],
   "source": [
    "import pandas as pd\n",
    "from nltk.tokenize import sent_tokenize\n",
    "import wikipedia"
   ]
  },
  {
   "cell_type": "code",
   "execution_count": 2,
   "metadata": {
    "collapsed": false,
    "pycharm": {
     "name": "#%%\n"
    }
   },
   "outputs": [],
   "source": [
    "wikipedia.set_lang('en')\n",
    "data_path = '../data/train.jsonl'\n",
    "out_path = '../data/test-processed.csv'"
   ]
  },
  {
   "cell_type": "code",
   "execution_count": 3,
   "metadata": {
    "collapsed": false,
    "pycharm": {
     "name": "#%%\n"
    }
   },
   "outputs": [],
   "source": [
    "wiki_base_url = 'https://en.wikipedia.org/wiki/'\n",
    "\n",
    "def get_wiki_article(name):\n",
    "    try:\n",
    "        return wikipedia.summary(name)\n",
    "    except:\n",
    "        return None\n",
    "\n",
    "def aggregate_evidence(evidence):\n",
    "\n",
    "    article_index_map = {}\n",
    "\n",
    "    if not type(evidence) == list:\n",
    "        raise Exception('evidence is not a list')\n",
    "\n",
    "    if type(evidence[0]) == list:\n",
    "        for sub in evidence:\n",
    "            res = aggregate_evidence(sub)\n",
    "            for k, v in res.items():\n",
    "                if k in article_index_map:\n",
    "                    article_index_map[k].extend(v)\n",
    "                else:\n",
    "                    article_index_map[k] = v\n",
    "\n",
    "        return article_index_map\n",
    "\n",
    "    elif type(evidence[0]) == int:\n",
    "        return {evidence[2]: [evidence[3]]}\n",
    "\n",
    "    else:\n",
    "        raise Exception('evidence is malformed')\n",
    "\n",
    "def process_sample(sample):\n",
    "    claim = sample['claim']\n",
    "    evidence = sample['evidence']\n",
    "    label = sample['label']\n",
    "\n",
    "    processed = {\n",
    "        'claim': claim,\n",
    "        'orig_evidence': evidence,\n",
    "        'label': label\n",
    "    }\n",
    "\n",
    "    processed_list = []\n",
    "\n",
    "    if label != 'NOT ENOUGH INFO':\n",
    "        agg_evidence = aggregate_evidence(evidence)\n",
    "\n",
    "        for article in agg_evidence.keys():\n",
    "            article_text = get_wiki_article(article.replace('_', ' '))\n",
    "            if article_text is None:\n",
    "                print('could not find article for {}'.format(article))\n",
    "                continue\n",
    "            sentences = sent_tokenize(article_text)\n",
    "\n",
    "            curr_processed = processed.copy()\n",
    "            curr_processed['article'] = article\n",
    "            curr_processed['article_text'] = article_text\n",
    "            curr_processed['sentences'] = sentences\n",
    "            curr_processed['correct'] = agg_evidence[article]\n",
    "\n",
    "            processed_list.append(curr_processed)\n",
    "\n",
    "        return processed_list\n",
    "\n",
    "    else:\n",
    "        return [processed]\n",
    "\n",
    "def get_processed_df(dataframe):\n",
    "    processed = []\n",
    "    for i, row in dataframe.iterrows():\n",
    "        processed.extend(process_sample(row))\n",
    "    return pd.DataFrame(processed)"
   ]
  },
  {
   "cell_type": "code",
   "execution_count": 4,
   "metadata": {
    "collapsed": false,
    "pycharm": {
     "name": "#%%\n"
    }
   },
   "outputs": [],
   "source": [
    "df = pd.read_json(data_path, lines=True)"
   ]
  },
  {
   "cell_type": "code",
   "execution_count": 7,
   "metadata": {
    "collapsed": false,
    "pycharm": {
     "name": "#%%\n"
    }
   },
   "outputs": [
    {
     "name": "stdout",
     "output_type": "stream",
     "text": [
      "–––\n",
      "[[[92206, 104971, 'Nikolaj_Coster-Waldau', 7], [92206, 104971, 'Fox_Broadcasting_Company', 0]]]\n",
      "–––\n",
      "[[[174271, 187498, 'Roman_Atwood', 1]], [[174271, 187499, 'Roman_Atwood', 3]]]\n",
      "–––\n",
      "[[[255136, 254645, 'History_of_art', 2]]]\n",
      "–––\n",
      "[[[180804, 193183, 'Adrienne_Bailon', 0]]]\n",
      "–––\n",
      "[[[100277, None, None, None]]]\n",
      "–––\n",
      "[[[151831, 166598, 'Homeland_-LRB-TV_series-RRB-', 0], [151831, 166598, 'Prisoners_of_War_-LRB-TV_series-RRB-', 0]]]\n",
      "–––\n",
      "[[[173384, None, None, None]]]\n",
      "–––\n",
      "[[[273626, None, None, None]]]\n",
      "–––\n",
      "[[[49158, 58489, 'Boston_Celtics', 3]], [[49159, 58490, 'Boston_Celtics', 3]]]\n",
      "–––\n",
      "[[[23513, 28977, 'The_Ten_Commandments_-LRB-1956_film-RRB-', 0]], [[23513, 28978, 'The_Ten_Commandments_-LRB-1956_film-RRB-', 20]]]\n"
     ]
    }
   ],
   "source": [
    "ev = df['evidence'].tolist()[:10]\n",
    "for e in ev:\n",
    "    print('–––')\n",
    "    print(e)"
   ]
  },
  {
   "cell_type": "code",
   "execution_count": 103,
   "metadata": {
    "collapsed": false,
    "pycharm": {
     "name": "#%%\n"
    }
   },
   "outputs": [
    {
     "name": "stdout",
     "output_type": "stream",
     "text": [
      "could not find article for The_Ten_Commandments_-LRB-1956_film-RRB-\n"
     ]
    }
   ],
   "source": [
    "df = pd.read_json(data_path, lines=True)\n",
    "test_data = df[:10]\n",
    "processed_df = get_processed_df(test_data)\n",
    "processed_df.to_csv(out_path)"
   ]
  }
 ],
 "metadata": {
  "kernelspec": {
   "display_name": "Python 3",
   "language": "python",
   "name": "python3"
  },
  "language_info": {
   "codemirror_mode": {
    "name": "ipython",
    "version": 3
   },
   "file_extension": ".py",
   "mimetype": "text/x-python",
   "name": "python",
   "nbconvert_exporter": "python",
   "pygments_lexer": "ipython3",
   "version": "3.9.12"
  }
 },
 "nbformat": 4,
 "nbformat_minor": 0
}
