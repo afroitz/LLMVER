{
 "cells": [
  {
   "cell_type": "code",
   "execution_count": 7,
   "metadata": {},
   "outputs": [],
   "source": [
    "import json\n",
    "import os"
   ]
  },
  {
   "cell_type": "code",
   "execution_count": 9,
   "metadata": {},
   "outputs": [],
   "source": [
    "def get_first_id(file_path):\n",
    "    try:\n",
    "        with open(file_path, 'r') as file:\n",
    "            first_line = file.readline()\n",
    "            json_obj = json.loads(first_line)\n",
    "            return json_obj.get(\"id\")\n",
    "    except Exception as e:\n",
    "        print(f\"Error processing file {file_path}: {e}\")\n",
    "        return None"
   ]
  },
  {
   "cell_type": "code",
   "execution_count": 10,
   "metadata": {},
   "outputs": [],
   "source": [
    "wiki_dir = \"../data/wiki-pages/\"\n",
    "wiki_idx = dict()\n",
    "\n",
    "# loop through files in wiki-pages directory\n",
    "for filename in os.listdir(wiki_dir):\n",
    "    if filename.endswith(\".jsonl\"):\n",
    "        file_path = os.path.join(wiki_dir, filename)\n",
    "        first_id = get_first_id(file_path)\n",
    "        if first_id is not None:\n",
    "            wiki_idx[filename] = first_id"
   ]
  },
  {
   "cell_type": "code",
   "execution_count": 12,
   "metadata": {},
   "outputs": [],
   "source": [
    "# write wiki index to file, sorted by filename\n",
    "with open(\"../data/wiki_index.json\", \"w\") as file:\n",
    "    json.dump(wiki_idx, file, indent=4, sort_keys=True)"
   ]
  }
 ],
 "metadata": {
  "kernelspec": {
   "display_name": "base",
   "language": "python",
   "name": "python3"
  },
  "language_info": {
   "codemirror_mode": {
    "name": "ipython",
    "version": 3
   },
   "file_extension": ".py",
   "mimetype": "text/x-python",
   "name": "python",
   "nbconvert_exporter": "python",
   "pygments_lexer": "ipython3",
   "version": "3.9.12"
  }
 },
 "nbformat": 4,
 "nbformat_minor": 2
}
