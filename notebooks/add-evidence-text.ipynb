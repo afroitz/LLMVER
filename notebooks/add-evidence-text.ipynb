{
 "cells": [
  {
   "cell_type": "code",
   "execution_count": 89,
   "metadata": {},
   "outputs": [],
   "source": [
    "import pandas as pd\n",
    "import json"
   ]
  },
  {
   "cell_type": "code",
   "execution_count": 90,
   "metadata": {},
   "outputs": [],
   "source": [
    "data_path = '../data/single-source-all.csv'\n",
    "manual_path = '../data/manual_anno_done.csv'"
   ]
  },
  {
   "cell_type": "code",
   "execution_count": 91,
   "metadata": {},
   "outputs": [],
   "source": [
    "wiki_dir = '../data/wiki-pages/'\n",
    "\n",
    "# read wiki index from json dataframe and define wiki lookup function\n",
    "with open('../data/wiki_index.json') as f:\n",
    "    index_data = json.load(f)\n",
    "    index_items = list(index_data.items())\n",
    "    wiki_index = pd.DataFrame(index_items, columns=['filename', 'first_entry'])\n",
    "    wiki_index['file_id'] = wiki_index['filename'].apply(lambda x: int(x.split('.')[0][5:]))\n",
    "\n",
    "\n",
    "def wiki_file_lookup(wiki_name, wiki_filename):\n",
    "    # Name to lowercase\n",
    "    wiki_name = wiki_name.lower()\n",
    "\n",
    "    # Check for object with id = wiki_name in file. If it exists, return it. If not, return None\n",
    "    wiki_path = wiki_dir + wiki_filename\n",
    "    wiki_df = pd.read_json(wiki_path, lines=True)\n",
    "\n",
    "    # Id colum to lowercase\n",
    "    wiki_df['id'] = wiki_df['id'].str.lower()\n",
    "    wiki_df = wiki_df[wiki_df['id'] == wiki_name]\n",
    "\n",
    "    if len(wiki_df) > 0:\n",
    "        return wiki_df.iloc[0]['text']\n",
    "    else:\n",
    "        return None\n",
    "\n",
    "def wiki_lookup(wiki_name, lookaround = 0):\n",
    "    # Loop through first_entry column of wiki_index. If previous entry comes before wiki_name and next entry comes after alphabetically, set seed_id to previous entry\n",
    "    seed_id = 0\n",
    "    for i, row in wiki_index.iterrows():\n",
    "        if row['first_entry'] > wiki_name:\n",
    "            break\n",
    "        seed_id = row['file_id']\n",
    "\n",
    "    min_id = wiki_index['file_id'].min()\n",
    "    max_id = wiki_index['file_id'].max()\n",
    "\n",
    "    # Look in file with id = seed_id for wiki_name. If it exists, return it.\n",
    "    entry = wiki_file_lookup(wiki_name, 'wiki-{:0>3}.jsonl'.format(seed_id))\n",
    "\n",
    "    if entry:\n",
    "        return entry\n",
    "\n",
    "    for window in range(1, lookaround + 1):\n",
    "        if seed_id - window >= min_id:\n",
    "            entry = wiki_file_lookup(wiki_name, 'wiki-{:0>3}.jsonl'.format(seed_id - window))\n",
    "            if entry:\n",
    "                return entry\n",
    "        if seed_id + window <= max_id:\n",
    "            entry = entry or wiki_file_lookup(wiki_name, 'wiki-{:0>3}.jsonl'.format(seed_id + window))\n",
    "            if entry:\n",
    "                return entry\n",
    "\n",
    "    return None "
   ]
  },
  {
   "cell_type": "code",
   "execution_count": 92,
   "metadata": {},
   "outputs": [],
   "source": [
    "# read data\n",
    "df = pd.read_csv(data_path, sep=',', header=0)\n",
    "\n",
    "# take first 1000 rows\n",
    "df = df.iloc[:1000]\n",
    "\n",
    "# read manually annotated data\n",
    "df_manual = pd.read_csv(manual_path, sep=';', header=0)\n",
    "\n",
    "# merge manual annotations into data\n",
    "merged_df = df.merge(df_manual, on='id', how='left', suffixes=('', '_manual'))\n",
    "df.loc[merged_df['evidence_article_manual'].notnull(), 'evidence_article'] = merged_df['evidence_article_manual']"
   ]
  },
  {
   "cell_type": "code",
   "execution_count": 93,
   "metadata": {},
   "outputs": [
    {
     "name": "stdout",
     "output_type": "stream",
     "text": [
      "0\n"
     ]
    },
    {
     "name": "stderr",
     "output_type": "stream",
     "text": [
      "/var/folders/mm/xlpsvlm130vdqz7c99mnfj800000gn/T/ipykernel_89353/1275700844.py:7: SettingWithCopyWarning: \n",
      "A value is trying to be set on a copy of a slice from a DataFrame.\n",
      "Try using .loc[row_indexer,col_indexer] = value instead\n",
      "\n",
      "See the caveats in the documentation: https://pandas.pydata.org/pandas-docs/stable/user_guide/indexing.html#returning-a-view-versus-a-copy\n",
      "  batch_df['evidence_text'] = batch_df['evidence_article'].apply(lambda x: wiki_lookup(x, 2))\n"
     ]
    },
    {
     "name": "stdout",
     "output_type": "stream",
     "text": [
      "100\n"
     ]
    },
    {
     "name": "stderr",
     "output_type": "stream",
     "text": [
      "/var/folders/mm/xlpsvlm130vdqz7c99mnfj800000gn/T/ipykernel_89353/1275700844.py:7: SettingWithCopyWarning: \n",
      "A value is trying to be set on a copy of a slice from a DataFrame.\n",
      "Try using .loc[row_indexer,col_indexer] = value instead\n",
      "\n",
      "See the caveats in the documentation: https://pandas.pydata.org/pandas-docs/stable/user_guide/indexing.html#returning-a-view-versus-a-copy\n",
      "  batch_df['evidence_text'] = batch_df['evidence_article'].apply(lambda x: wiki_lookup(x, 2))\n"
     ]
    },
    {
     "name": "stdout",
     "output_type": "stream",
     "text": [
      "200\n"
     ]
    },
    {
     "name": "stderr",
     "output_type": "stream",
     "text": [
      "/var/folders/mm/xlpsvlm130vdqz7c99mnfj800000gn/T/ipykernel_89353/1275700844.py:7: SettingWithCopyWarning: \n",
      "A value is trying to be set on a copy of a slice from a DataFrame.\n",
      "Try using .loc[row_indexer,col_indexer] = value instead\n",
      "\n",
      "See the caveats in the documentation: https://pandas.pydata.org/pandas-docs/stable/user_guide/indexing.html#returning-a-view-versus-a-copy\n",
      "  batch_df['evidence_text'] = batch_df['evidence_article'].apply(lambda x: wiki_lookup(x, 2))\n"
     ]
    },
    {
     "name": "stdout",
     "output_type": "stream",
     "text": [
      "300\n"
     ]
    },
    {
     "name": "stderr",
     "output_type": "stream",
     "text": [
      "/var/folders/mm/xlpsvlm130vdqz7c99mnfj800000gn/T/ipykernel_89353/1275700844.py:7: SettingWithCopyWarning: \n",
      "A value is trying to be set on a copy of a slice from a DataFrame.\n",
      "Try using .loc[row_indexer,col_indexer] = value instead\n",
      "\n",
      "See the caveats in the documentation: https://pandas.pydata.org/pandas-docs/stable/user_guide/indexing.html#returning-a-view-versus-a-copy\n",
      "  batch_df['evidence_text'] = batch_df['evidence_article'].apply(lambda x: wiki_lookup(x, 2))\n"
     ]
    },
    {
     "name": "stdout",
     "output_type": "stream",
     "text": [
      "400\n"
     ]
    },
    {
     "name": "stderr",
     "output_type": "stream",
     "text": [
      "/var/folders/mm/xlpsvlm130vdqz7c99mnfj800000gn/T/ipykernel_89353/1275700844.py:7: SettingWithCopyWarning: \n",
      "A value is trying to be set on a copy of a slice from a DataFrame.\n",
      "Try using .loc[row_indexer,col_indexer] = value instead\n",
      "\n",
      "See the caveats in the documentation: https://pandas.pydata.org/pandas-docs/stable/user_guide/indexing.html#returning-a-view-versus-a-copy\n",
      "  batch_df['evidence_text'] = batch_df['evidence_article'].apply(lambda x: wiki_lookup(x, 2))\n"
     ]
    },
    {
     "name": "stdout",
     "output_type": "stream",
     "text": [
      "500\n"
     ]
    },
    {
     "name": "stderr",
     "output_type": "stream",
     "text": [
      "/var/folders/mm/xlpsvlm130vdqz7c99mnfj800000gn/T/ipykernel_89353/1275700844.py:7: SettingWithCopyWarning: \n",
      "A value is trying to be set on a copy of a slice from a DataFrame.\n",
      "Try using .loc[row_indexer,col_indexer] = value instead\n",
      "\n",
      "See the caveats in the documentation: https://pandas.pydata.org/pandas-docs/stable/user_guide/indexing.html#returning-a-view-versus-a-copy\n",
      "  batch_df['evidence_text'] = batch_df['evidence_article'].apply(lambda x: wiki_lookup(x, 2))\n"
     ]
    },
    {
     "name": "stdout",
     "output_type": "stream",
     "text": [
      "600\n"
     ]
    },
    {
     "name": "stderr",
     "output_type": "stream",
     "text": [
      "/var/folders/mm/xlpsvlm130vdqz7c99mnfj800000gn/T/ipykernel_89353/1275700844.py:7: SettingWithCopyWarning: \n",
      "A value is trying to be set on a copy of a slice from a DataFrame.\n",
      "Try using .loc[row_indexer,col_indexer] = value instead\n",
      "\n",
      "See the caveats in the documentation: https://pandas.pydata.org/pandas-docs/stable/user_guide/indexing.html#returning-a-view-versus-a-copy\n",
      "  batch_df['evidence_text'] = batch_df['evidence_article'].apply(lambda x: wiki_lookup(x, 2))\n"
     ]
    },
    {
     "name": "stdout",
     "output_type": "stream",
     "text": [
      "700\n"
     ]
    },
    {
     "name": "stderr",
     "output_type": "stream",
     "text": [
      "/var/folders/mm/xlpsvlm130vdqz7c99mnfj800000gn/T/ipykernel_89353/1275700844.py:7: SettingWithCopyWarning: \n",
      "A value is trying to be set on a copy of a slice from a DataFrame.\n",
      "Try using .loc[row_indexer,col_indexer] = value instead\n",
      "\n",
      "See the caveats in the documentation: https://pandas.pydata.org/pandas-docs/stable/user_guide/indexing.html#returning-a-view-versus-a-copy\n",
      "  batch_df['evidence_text'] = batch_df['evidence_article'].apply(lambda x: wiki_lookup(x, 2))\n"
     ]
    },
    {
     "name": "stdout",
     "output_type": "stream",
     "text": [
      "800\n"
     ]
    },
    {
     "name": "stderr",
     "output_type": "stream",
     "text": [
      "/var/folders/mm/xlpsvlm130vdqz7c99mnfj800000gn/T/ipykernel_89353/1275700844.py:7: SettingWithCopyWarning: \n",
      "A value is trying to be set on a copy of a slice from a DataFrame.\n",
      "Try using .loc[row_indexer,col_indexer] = value instead\n",
      "\n",
      "See the caveats in the documentation: https://pandas.pydata.org/pandas-docs/stable/user_guide/indexing.html#returning-a-view-versus-a-copy\n",
      "  batch_df['evidence_text'] = batch_df['evidence_article'].apply(lambda x: wiki_lookup(x, 2))\n"
     ]
    },
    {
     "name": "stdout",
     "output_type": "stream",
     "text": [
      "900\n"
     ]
    },
    {
     "name": "stderr",
     "output_type": "stream",
     "text": [
      "/var/folders/mm/xlpsvlm130vdqz7c99mnfj800000gn/T/ipykernel_89353/1275700844.py:7: SettingWithCopyWarning: \n",
      "A value is trying to be set on a copy of a slice from a DataFrame.\n",
      "Try using .loc[row_indexer,col_indexer] = value instead\n",
      "\n",
      "See the caveats in the documentation: https://pandas.pydata.org/pandas-docs/stable/user_guide/indexing.html#returning-a-view-versus-a-copy\n",
      "  batch_df['evidence_text'] = batch_df['evidence_article'].apply(lambda x: wiki_lookup(x, 2))\n"
     ]
    }
   ],
   "source": [
    "# add wiki text to data in batches of batch_size, save each batch to file\n",
    "batch_size = 100\n",
    "\n",
    "for i in range(0, len(df), batch_size):\n",
    "    print(i)\n",
    "    batch_df = df.iloc[i:i+batch_size]\n",
    "    batch_df['evidence_text'] = batch_df['evidence_article'].apply(lambda x: wiki_lookup(x, 2))\n",
    "    batch_df.to_csv('../data/df_with_text_{}.csv'.format(i), sep=';', header=True, index=False)"
   ]
  }
 ],
 "metadata": {
  "kernelspec": {
   "display_name": "base",
   "language": "python",
   "name": "python3"
  },
  "language_info": {
   "codemirror_mode": {
    "name": "ipython",
    "version": 3
   },
   "file_extension": ".py",
   "mimetype": "text/x-python",
   "name": "python",
   "nbconvert_exporter": "python",
   "pygments_lexer": "ipython3",
   "version": "3.9.12"
  }
 },
 "nbformat": 4,
 "nbformat_minor": 2
}
