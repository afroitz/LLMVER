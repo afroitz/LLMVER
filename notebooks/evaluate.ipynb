{
 "cells": [
  {
   "cell_type": "code",
   "execution_count": 2,
   "metadata": {
    "collapsed": true,
    "pycharm": {
     "name": "#%%\n"
    }
   },
   "outputs": [
    {
     "name": "stderr",
     "output_type": "stream",
     "text": [
      "/Users/alexfroitzheim/opt/anaconda3/lib/python3.9/site-packages/scipy/__init__.py:146: UserWarning: A NumPy version >=1.16.5 and <1.23.0 is required for this version of SciPy (detected version 1.26.3\n",
      "  warnings.warn(f\"A NumPy version >={np_minversion} and <{np_maxversion}\"\n"
     ]
    }
   ],
   "source": [
    "import pandas as pd\n",
    "import os\n",
    "import ast\n",
    "from sklearn.metrics import classification_report, confusion_matrix\n",
    "import matplotlib.pyplot as plt\n",
    "import seaborn as sns\n",
    "\n",
    "data_dir = '../data/annotated/'"
   ]
  },
  {
   "cell_type": "code",
   "execution_count": 3,
   "metadata": {},
   "outputs": [],
   "source": [
    "def parse_annotation(anno):\n",
    "    if anno.startswith(\"LABEL: \"):\n",
    "        anno = anno[7:]\n",
    "\n",
    "    if anno.startswith(\"SUPPORTED\"):\n",
    "        ev = anno.split('\\n')[1]\n",
    "        ev = ev.split(':')[0]\n",
    "\n",
    "        ev_idx = [int(p.strip()) - 1 for p in ev.split(',')]\n",
    "\n",
    "        return (\"SUPPORTS\", ev_idx)\n",
    "    \n",
    "    elif anno.startswith(\"REFUTED\"):\n",
    "        if len(anno.split('\\n')) != 2:\n",
    "            return (\"REFUTES\", [])\n",
    "        \n",
    "        else:\n",
    "            ev = anno.split('\\n')[1]\n",
    "\n",
    "            if ev.startswith(\"There is no\") or ev.startswith(\"This claim\") or ev.startswith(\"The evidence text\"):\n",
    "                return (\"REFUTES\", [])\n",
    "            \n",
    "            elif ev.startswith(\"Sentence 1\"):\n",
    "                return (\"REFUTES\", [0])\n",
    "\n",
    "            else:\n",
    "                ev_idx = [int(p.strip()) for p in ev.split(',')]\n",
    "                return (\"REFUTES\", ev_idx)\n",
    "            \n",
    "    elif anno.startswith(\"NOT ENOUGH INFO\"):\n",
    "        return (\"NOT ENOUGH INFO\", [])\n",
    "    \n",
    "    else:\n",
    "        raise ValueError(f\"Cannot parse annotation: {anno}\")\n",
    "    \n",
    "\n",
    "def get_evidence_correctness(row):\n",
    "\n",
    "    if row['label'] == 'NOT ENOUGH INFO' or row['gpt_label'] == 'NOT ENOUGH INFO':\n",
    "        return ''\n",
    "\n",
    "    pred_ev = row['gpt_evidence']\n",
    "    gold_ev = row['compressed_evidence']\n",
    "\n",
    "    if type(gold_ev) == str:\n",
    "        gold_ev = ast.literal_eval(gold_ev)\n",
    "\n",
    "    if type(pred_ev) == str:\n",
    "        pred_ev = ast.literal_eval(pred_ev)\n",
    "\n",
    "    if len(pred_ev) == 0:\n",
    "        return 'NOTHING'\n",
    "\n",
    "    if pred_ev in gold_ev:\n",
    "        return 'CORRECT'\n",
    "    \n",
    "    ev_labels = []\n",
    "    pred_ev = set(pred_ev)\n",
    "\n",
    "    for alt in gold_ev:\n",
    "        alt = set(alt)\n",
    "        if pred_ev.issubset(alt):\n",
    "            ev_labels.append('SUBSET')\n",
    "        elif pred_ev.issuperset(alt):\n",
    "            ev_labels.append('SUPERSET')\n",
    "        elif len(pred_ev.intersection(alt)) > 0:\n",
    "            ev_labels.append('OVERLAP')\n",
    "        else:\n",
    "            ev_labels.append('DISJOINT')\n",
    "\n",
    "    ev_labels = list(set(ev_labels))\n",
    "\n",
    "    if len(ev_labels) == 1:\n",
    "        return ev_labels[0]\n",
    "    \n",
    "    if len(ev_labels) == 2 and 'DISJOINT' in ev_labels:\n",
    "        ev_labels.remove('DISJOINT')\n",
    "        return ev_labels[0]\n",
    "    \n",
    "    else:\n",
    "        return ev_labels"
   ]
  },
  {
   "cell_type": "code",
   "execution_count": 4,
   "metadata": {},
   "outputs": [],
   "source": [
    "dfs = []\n",
    "\n",
    "for file in os.listdir(data_dir):\n",
    "    if(file == '.DS_Store'):\n",
    "        continue\n",
    "    df = pd.read_csv(data_dir + file, sep=';', index_col=0)\n",
    "    dfs.append(df)\n",
    "\n",
    "# Concatenate all dataframes\n",
    "df = pd.concat(dfs, ignore_index=True).reset_index(drop=True)\n",
    "\n",
    "# Add columns to df: gpt_label is parse_annotation[0], gpt_evidence is parse_annotation[1]\n",
    "df['gpt_label'] = df['annotation'].apply(lambda x: parse_annotation(x)[0])\n",
    "df['gpt_evidence'] = df['annotation'].apply(lambda x: parse_annotation(x)[1])\n",
    "\n",
    "df['evidence_correctness'] = df.apply(get_evidence_correctness, axis=1)"
   ]
  },
  {
   "cell_type": "markdown",
   "metadata": {},
   "source": [
    "## Label Correctness"
   ]
  },
  {
   "cell_type": "code",
   "execution_count": 5,
   "metadata": {},
   "outputs": [
    {
     "data": {
      "image/png": "[encoded data removed]",
      "text/plain": [
       "<Figure size 720x432 with 1 Axes>"
      ]
     },
     "metadata": {
      "needs_background": "light"
     },
     "output_type": "display_data"
    },
    {
     "name": "stdout",
     "output_type": "stream",
     "text": [
      "                 precision    recall  f1-score   support\n",
      "\n",
      "NOT ENOUGH INFO       0.52      0.43      0.47       230\n",
      "        REFUTES       0.52      0.43      0.47       191\n",
      "       SUPPORTS       0.76      0.86      0.80       545\n",
      "\n",
      "       accuracy                           0.67       966\n",
      "      macro avg       0.60      0.57      0.58       966\n",
      "   weighted avg       0.65      0.67      0.66       966\n",
      "\n"
     ]
    },
    {
     "data": {
      "image/png": "[encoded data removed]",
      "text/plain": [
       "<Figure size 720x504 with 1 Axes>"
      ]
     },
     "metadata": {
      "needs_background": "light"
     },
     "output_type": "display_data"
    }
   ],
   "source": [
    "true_labels = df['label']\n",
    "predicted_labels = df['gpt_label']\n",
    "\n",
    "true_counts = true_labels.value_counts()\n",
    "pred_counts = predicted_labels.value_counts()\n",
    "\n",
    "plot_data = pd.DataFrame({\n",
    "    'TRUE': true_counts,\n",
    "    'PREDICTED': pred_counts,\n",
    "}).fillna(0)  # Fill NaN values with 0\n",
    "\n",
    "plot_data.plot(kind='bar', figsize=(10, 6))\n",
    "plt.title('Label Distribution (Actual vs Predicted)')\n",
    "plt.xlabel('Label')\n",
    "plt.ylabel('Occurrences')\n",
    "plt.xticks(rotation=0)  # Assuming binary values (True/False)\n",
    "plt.show()\n",
    "\n",
    "# Precision, Recall, F1-Score for each class\n",
    "class_report = classification_report(true_labels, predicted_labels)\n",
    "print(class_report)\n",
    "\n",
    "labels = ['SUPPORTS', 'REFUTES', 'NOT ENOUGH INFO']\n",
    "\n",
    "# Confusion Matrix\n",
    "conf_matrix = confusion_matrix(true_labels, predicted_labels, labels=labels)\n",
    "\n",
    "plt.figure(figsize=(10, 7))\n",
    "sns.heatmap(conf_matrix, annot=True, fmt='d', cmap='Blues', xticklabels=labels, yticklabels=labels, cbar=False)\n",
    "\n",
    "# Adding the aesthetics\n",
    "plt.title('Confusion Matrix (Labels)')\n",
    "plt.ylabel('True Label')\n",
    "plt.xlabel('Predicted Label')\n",
    "\n",
    "# Show the plot\n",
    "plt.show()\n"
   ]
  },
  {
   "cell_type": "markdown",
   "metadata": {},
   "source": [
    "## Evidence Correctness"
   ]
  },
  {
   "cell_type": "code",
   "execution_count": 6,
   "metadata": {},
   "outputs": [
    {
     "name": "stdout",
     "output_type": "stream",
     "text": [
      "Accuracy (Completely correct): 0.36\n",
      "Accuracy (Correct or more): 0.5\n",
      "Accuracy (Any correct sentence): 0.51\n"
     ]
    },
    {
     "name": "stderr",
     "output_type": "stream",
     "text": [
      "/var/folders/mm/xlpsvlm130vdqz7c99mnfj800000gn/T/ipykernel_56915/3077311959.py:1: UserWarning: Boolean Series key will be reindexed to match DataFrame index.\n",
      "  df_ts = df[df['label'] == 'SUPPORTS'][df['gpt_label'] == 'SUPPORTS']\n",
      "/var/folders/mm/xlpsvlm130vdqz7c99mnfj800000gn/T/ipykernel_56915/3077311959.py:2: UserWarning: Boolean Series key will be reindexed to match DataFrame index.\n",
      "  df_fs = df[df['label'] == 'REFUTES'][df['gpt_label'] == 'SUPPORTS']\n",
      "/var/folders/mm/xlpsvlm130vdqz7c99mnfj800000gn/T/ipykernel_56915/3077311959.py:3: UserWarning: Boolean Series key will be reindexed to match DataFrame index.\n",
      "  df_tr = df[df['label'] == 'REFUTES'][df['gpt_label'] == 'REFUTES']\n",
      "/var/folders/mm/xlpsvlm130vdqz7c99mnfj800000gn/T/ipykernel_56915/3077311959.py:4: UserWarning: Boolean Series key will be reindexed to match DataFrame index.\n",
      "  df_fr = df[df['label'] == 'SUPPORTS'][df['gpt_label'] == 'REFUTES']\n"
     ]
    },
    {
     "data": {
      "text/html": [
       "<div>\n",
       "<style scoped>\n",
       "    .dataframe tbody tr th:only-of-type {\n",
       "        vertical-align: middle;\n",
       "    }\n",
       "\n",
       "    .dataframe tbody tr th {\n",
       "        vertical-align: top;\n",
       "    }\n",
       "\n",
       "    .dataframe thead th {\n",
       "        text-align: right;\n",
       "    }\n",
       "</style>\n",
       "<table border=\"1\" class=\"dataframe\">\n",
       "  <thead>\n",
       "    <tr style=\"text-align: right;\">\n",
       "      <th></th>\n",
       "      <th>TRUE SUPPORTS</th>\n",
       "      <th>FALSE SUPPORTS</th>\n",
       "      <th>TRUE REFUTES</th>\n",
       "      <th>FALSE REFUTES</th>\n",
       "    </tr>\n",
       "  </thead>\n",
       "  <tbody>\n",
       "    <tr>\n",
       "      <th>CORRECT</th>\n",
       "      <td>198.0</td>\n",
       "      <td>27.0</td>\n",
       "      <td>5.0</td>\n",
       "      <td>0.0</td>\n",
       "    </tr>\n",
       "    <tr>\n",
       "      <th>SUPERSET</th>\n",
       "      <td>75.0</td>\n",
       "      <td>6.0</td>\n",
       "      <td>10.0</td>\n",
       "      <td>3.0</td>\n",
       "    </tr>\n",
       "    <tr>\n",
       "      <th>OVERLAP</th>\n",
       "      <td>1.0</td>\n",
       "      <td>0.0</td>\n",
       "      <td>0.0</td>\n",
       "      <td>0.0</td>\n",
       "    </tr>\n",
       "    <tr>\n",
       "      <th>SUBSET</th>\n",
       "      <td>4.0</td>\n",
       "      <td>0.0</td>\n",
       "      <td>0.0</td>\n",
       "      <td>0.0</td>\n",
       "    </tr>\n",
       "    <tr>\n",
       "      <th>DISJOINT</th>\n",
       "      <td>188.0</td>\n",
       "      <td>32.0</td>\n",
       "      <td>49.0</td>\n",
       "      <td>24.0</td>\n",
       "    </tr>\n",
       "    <tr>\n",
       "      <th>NOTHING</th>\n",
       "      <td>0.0</td>\n",
       "      <td>0.0</td>\n",
       "      <td>19.0</td>\n",
       "      <td>2.0</td>\n",
       "    </tr>\n",
       "  </tbody>\n",
       "</table>\n",
       "</div>"
      ],
      "text/plain": [
       "          TRUE SUPPORTS  FALSE SUPPORTS  TRUE REFUTES  FALSE REFUTES\n",
       "CORRECT           198.0            27.0           5.0            0.0\n",
       "SUPERSET           75.0             6.0          10.0            3.0\n",
       "OVERLAP             1.0             0.0           0.0            0.0\n",
       "SUBSET              4.0             0.0           0.0            0.0\n",
       "DISJOINT          188.0            32.0          49.0           24.0\n",
       "NOTHING             0.0             0.0          19.0            2.0"
      ]
     },
     "metadata": {},
     "output_type": "display_data"
    },
    {
     "data": {
      "image/png": "[encoded data removed]",
      "text/plain": [
       "<Figure size 720x432 with 1 Axes>"
      ]
     },
     "metadata": {
      "needs_background": "light"
     },
     "output_type": "display_data"
    },
    {
     "data": {
      "image/png": "[encoded data removed]",
      "text/plain": [
       "<Figure size 720x432 with 1 Axes>"
      ]
     },
     "metadata": {
      "needs_background": "light"
     },
     "output_type": "display_data"
    },
    {
     "data": {
      "image/png": "[encoded data removed]",
      "text/plain": [
       "<Figure size 720x432 with 1 Axes>"
      ]
     },
     "metadata": {
      "needs_background": "light"
     },
     "output_type": "display_data"
    }
   ],
   "source": [
    "df_ts = df[df['label'] == 'SUPPORTS'][df['gpt_label'] == 'SUPPORTS']\n",
    "df_fs = df[df['label'] == 'REFUTES'][df['gpt_label'] == 'SUPPORTS']\n",
    "df_tr = df[df['label'] == 'REFUTES'][df['gpt_label'] == 'REFUTES']\n",
    "df_fr = df[df['label'] == 'SUPPORTS'][df['gpt_label'] == 'REFUTES']\n",
    "\n",
    "df_t = pd.concat([df_ts, df_tr])\n",
    "df_f = pd.concat([df_fs, df_fr])\n",
    "df_tf = pd.concat([df_t, df_f])\n",
    "\n",
    "ts_counts = df_ts['evidence_correctness'].value_counts()\n",
    "fs_counts = df_fs['evidence_correctness'].value_counts()\n",
    "tr_counts = df_tr['evidence_correctness'].value_counts()\n",
    "fr_counts = df_fr['evidence_correctness'].value_counts()\n",
    "\n",
    "t_counts = df_t['evidence_correctness'].value_counts()\n",
    "f_counts = df_f['evidence_correctness'].value_counts()\n",
    "\n",
    "tf_counts = df_tf['evidence_correctness'].value_counts()\n",
    "\n",
    "total = tf_counts.sum()\n",
    "correct = tf_counts['CORRECT']\n",
    "correct_superset = correct + tf_counts['SUPERSET']\n",
    "correct_any = correct_superset + tf_counts['SUBSET'] + tf_counts['OVERLAP']\n",
    "\n",
    "accuracy_correct = correct / total\n",
    "accuracy_correct_superset = correct_superset / total\n",
    "accuracy_correct_any = correct_any / total\n",
    "\n",
    "print(f\"Accuracy (Completely correct): {round(accuracy_correct, 2)}\")\n",
    "print(f\"Accuracy (Correct or more): {round(accuracy_correct_superset, 2)}\")\n",
    "print(f\"Accuracy (Any correct sentence): {round(accuracy_correct_any, 2)}\")\n",
    "\n",
    "labels = ['CORRECT', 'SUPERSET', 'OVERLAP', 'SUBSET', 'DISJOINT', 'NOTHING']\n",
    "\n",
    "evidence_correctness_confusion = pd.DataFrame({\n",
    "    'TRUE SUPPORTS': ts_counts,\n",
    "    'FALSE SUPPORTS': fs_counts,\n",
    "    'TRUE REFUTES': tr_counts,\n",
    "    'FALSE REFUTES': fr_counts,\n",
    "}).fillna(0).reindex(labels)\n",
    "\n",
    "evidence_correctness_truefalse = pd.DataFrame({\n",
    "    'CORRECT LABEL': t_counts,\n",
    "    'WRONG LABEL': f_counts,\n",
    "}).fillna(0).reindex(labels)\n",
    "\n",
    "evidence_correctness_all = pd.DataFrame({\n",
    "    'ALL': tf_counts\n",
    "}).fillna(0).reindex(labels)\n",
    "\n",
    "evidence_correctness_all.plot(kind='bar', figsize=(10, 6))\n",
    "plt.title('Evidence Correctness (All)')\n",
    "plt.xlabel('Evidence Correctness')\n",
    "plt.ylabel('Counts')\n",
    "plt.xticks(rotation=0)\n",
    "plt.show()\n",
    "\n",
    "evidence_correctness_truefalse.plot(kind='bar', figsize=(10, 6))\n",
    "plt.title('Evidence Correctness (Correct label/Wrong label)')\n",
    "plt.xlabel('Evidence Correctness')\n",
    "plt.ylabel('Counts')\n",
    "plt.xticks(rotation=0)\n",
    "plt.show()\n",
    "\n",
    "evidence_correctness_confusion.plot(kind='bar', figsize=(10, 6))\n",
    "plt.title('Evidence Correctness (TS, FS, TR, FR)')\n",
    "plt.xlabel('Evidence Correctness')\n",
    "plt.ylabel('Counts')\n",
    "plt.xticks(rotation=0)\n",
    "plt.show()"
   ]
  },
  {
   "cell_type": "markdown",
   "metadata": {},
   "source": [
    "## Joint Correctness"
   ]
  },
  {
   "cell_type": "code",
   "execution_count": 10,
   "metadata": {},
   "outputs": [
    {
     "name": "stderr",
     "output_type": "stream",
     "text": [
      "/var/folders/mm/xlpsvlm130vdqz7c99mnfj800000gn/T/ipykernel_56915/3266162830.py:7: UserWarning: Boolean Series key will be reindexed to match DataFrame index.\n",
      "  both_correct_strict = len(df[df['label_correct'] == True][(df['evidence_correct_strict'] == True) | (df['label'] == 'NOT ENOUGH INFO')])\n",
      "/var/folders/mm/xlpsvlm130vdqz7c99mnfj800000gn/T/ipykernel_56915/3266162830.py:8: UserWarning: Boolean Series key will be reindexed to match DataFrame index.\n",
      "  only_label_correct_strict = len(df[df['label_correct'] == True][(df['evidence_correct_strict'] == False) & (df['label'] != 'NOT ENOUGH INFO')])\n",
      "/var/folders/mm/xlpsvlm130vdqz7c99mnfj800000gn/T/ipykernel_56915/3266162830.py:9: UserWarning: Boolean Series key will be reindexed to match DataFrame index.\n",
      "  only_evidence_correct_strict = len(df[df['label_correct'] == False][(df['evidence_correct_strict'] == True) & (df['label'] != 'NOT ENOUGH INFO')])\n",
      "/var/folders/mm/xlpsvlm130vdqz7c99mnfj800000gn/T/ipykernel_56915/3266162830.py:10: UserWarning: Boolean Series key will be reindexed to match DataFrame index.\n",
      "  both_wrong_strict = len(df[df['label_correct'] == False][(df['evidence_correct_strict'] == False) | (df['label'] == 'NOT ENOUGH INFO')])\n",
      "/var/folders/mm/xlpsvlm130vdqz7c99mnfj800000gn/T/ipykernel_56915/3266162830.py:13: UserWarning: Boolean Series key will be reindexed to match DataFrame index.\n",
      "  both_correct_medium = len(df[df['label_correct'] == True][(df['evidence_correct_medium'] == True) | (df['label'] == 'NOT ENOUGH INFO')])\n",
      "/var/folders/mm/xlpsvlm130vdqz7c99mnfj800000gn/T/ipykernel_56915/3266162830.py:14: UserWarning: Boolean Series key will be reindexed to match DataFrame index.\n",
      "  only_label_correct_medium = len(df[df['label_correct'] == True][(df['evidence_correct_medium'] == False) & (df['label'] != 'NOT ENOUGH INFO')])\n",
      "/var/folders/mm/xlpsvlm130vdqz7c99mnfj800000gn/T/ipykernel_56915/3266162830.py:15: UserWarning: Boolean Series key will be reindexed to match DataFrame index.\n",
      "  only_evidence_correct_medium = len(df[df['label_correct'] == False][(df['evidence_correct_medium'] == True) & (df['label'] != 'NOT ENOUGH INFO')])\n",
      "/var/folders/mm/xlpsvlm130vdqz7c99mnfj800000gn/T/ipykernel_56915/3266162830.py:16: UserWarning: Boolean Series key will be reindexed to match DataFrame index.\n",
      "  both_wrong_medium = len(df[df['label_correct'] == False][(df['evidence_correct_medium'] == False) | (df['label'] == 'NOT ENOUGH INFO')])\n",
      "/var/folders/mm/xlpsvlm130vdqz7c99mnfj800000gn/T/ipykernel_56915/3266162830.py:20: UserWarning: Boolean Series key will be reindexed to match DataFrame index.\n",
      "  both_correct_relaxed = len(df[df['label_correct'] == True][(df['evidence_correct_relaxed'] == True) | (df['label'] == 'NOT ENOUGH INFO')])\n",
      "/var/folders/mm/xlpsvlm130vdqz7c99mnfj800000gn/T/ipykernel_56915/3266162830.py:21: UserWarning: Boolean Series key will be reindexed to match DataFrame index.\n",
      "  only_label_correct_relaxed = len(df[df['label_correct'] == True][(df['evidence_correct_relaxed'] == False) & (df['label'] != 'NOT ENOUGH INFO')])\n",
      "/var/folders/mm/xlpsvlm130vdqz7c99mnfj800000gn/T/ipykernel_56915/3266162830.py:22: UserWarning: Boolean Series key will be reindexed to match DataFrame index.\n",
      "  only_evidence_correct_relaxed = len(df[df['label_correct'] == False][(df['evidence_correct_relaxed'] == True) & (df['label'] != 'NOT ENOUGH INFO')])\n",
      "/var/folders/mm/xlpsvlm130vdqz7c99mnfj800000gn/T/ipykernel_56915/3266162830.py:23: UserWarning: Boolean Series key will be reindexed to match DataFrame index.\n",
      "  both_wrong_relaxed = len(df[df['label_correct'] == False][(df['evidence_correct_relaxed'] == False) | (df['label'] == 'NOT ENOUGH INFO')])\n"
     ]
    },
    {
     "data": {
      "text/html": [
       "<div>\n",
       "<style scoped>\n",
       "    .dataframe tbody tr th:only-of-type {\n",
       "        vertical-align: middle;\n",
       "    }\n",
       "\n",
       "    .dataframe tbody tr th {\n",
       "        vertical-align: top;\n",
       "    }\n",
       "\n",
       "    .dataframe thead th {\n",
       "        text-align: right;\n",
       "    }\n",
       "</style>\n",
       "<table border=\"1\" class=\"dataframe\">\n",
       "  <thead>\n",
       "    <tr style=\"text-align: right;\">\n",
       "      <th></th>\n",
       "      <th>Strict</th>\n",
       "      <th>Medium</th>\n",
       "      <th>Relaxed</th>\n",
       "    </tr>\n",
       "  </thead>\n",
       "  <tbody>\n",
       "    <tr>\n",
       "      <th>Both correct</th>\n",
       "      <td>303</td>\n",
       "      <td>388</td>\n",
       "      <td>393</td>\n",
       "    </tr>\n",
       "    <tr>\n",
       "      <th>Only label correct</th>\n",
       "      <td>346</td>\n",
       "      <td>261</td>\n",
       "      <td>256</td>\n",
       "    </tr>\n",
       "    <tr>\n",
       "      <th>Only evidence correct</th>\n",
       "      <td>27</td>\n",
       "      <td>36</td>\n",
       "      <td>36</td>\n",
       "    </tr>\n",
       "    <tr>\n",
       "      <th>Both wrong</th>\n",
       "      <td>290</td>\n",
       "      <td>281</td>\n",
       "      <td>281</td>\n",
       "    </tr>\n",
       "  </tbody>\n",
       "</table>\n",
       "</div>"
      ],
      "text/plain": [
       "                       Strict  Medium  Relaxed\n",
       "Both correct              303     388      393\n",
       "Only label correct        346     261      256\n",
       "Only evidence correct      27      36       36\n",
       "Both wrong                290     281      281"
      ]
     },
     "metadata": {},
     "output_type": "display_data"
    },
    {
     "data": {
      "text/html": [
       "<div>\n",
       "<style scoped>\n",
       "    .dataframe tbody tr th:only-of-type {\n",
       "        vertical-align: middle;\n",
       "    }\n",
       "\n",
       "    .dataframe tbody tr th {\n",
       "        vertical-align: top;\n",
       "    }\n",
       "\n",
       "    .dataframe thead th {\n",
       "        text-align: right;\n",
       "    }\n",
       "</style>\n",
       "<table border=\"1\" class=\"dataframe\">\n",
       "  <thead>\n",
       "    <tr style=\"text-align: right;\">\n",
       "      <th></th>\n",
       "      <th>Strict</th>\n",
       "      <th>Medium</th>\n",
       "      <th>Relaxed</th>\n",
       "    </tr>\n",
       "  </thead>\n",
       "  <tbody>\n",
       "    <tr>\n",
       "      <th>Both correct</th>\n",
       "      <td>31.37 %</td>\n",
       "      <td>40.17 %</td>\n",
       "      <td>40.68 %</td>\n",
       "    </tr>\n",
       "    <tr>\n",
       "      <th>Only label correct</th>\n",
       "      <td>35.82 %</td>\n",
       "      <td>27.02 %</td>\n",
       "      <td>26.50 %</td>\n",
       "    </tr>\n",
       "    <tr>\n",
       "      <th>Only evidence correct</th>\n",
       "      <td>2.80 %</td>\n",
       "      <td>3.73 %</td>\n",
       "      <td>3.73 %</td>\n",
       "    </tr>\n",
       "    <tr>\n",
       "      <th>Both wrong</th>\n",
       "      <td>30.02 %</td>\n",
       "      <td>29.09 %</td>\n",
       "      <td>29.09 %</td>\n",
       "    </tr>\n",
       "  </tbody>\n",
       "</table>\n",
       "</div>"
      ],
      "text/plain": [
       "                       Strict  Medium  Relaxed\n",
       "Both correct          31.37 % 40.17 %  40.68 %\n",
       "Only label correct    35.82 % 27.02 %  26.50 %\n",
       "Only evidence correct  2.80 %  3.73 %   3.73 %\n",
       "Both wrong            30.02 % 29.09 %  29.09 %"
      ]
     },
     "metadata": {},
     "output_type": "display_data"
    },
    {
     "data": {
      "image/png": "[encoded data removed]",
      "text/plain": [
       "<Figure size 720x432 with 1 Axes>"
      ]
     },
     "metadata": {
      "needs_background": "light"
     },
     "output_type": "display_data"
    }
   ],
   "source": [
    "df['label_correct'] = df['label'] == df['gpt_label']\n",
    "df['evidence_correct_strict'] = df['evidence_correctness'] == 'CORRECT'\n",
    "df['evidence_correct_medium'] = df['evidence_correctness'].isin(['CORRECT', 'SUPERSET'])\n",
    "df['evidence_correct_relaxed'] = df['evidence_correctness'].isin(['CORRECT', 'SUPERSET', 'OVERLAP', 'SUBSET'])\n",
    "\n",
    "# Both correct, only label correct, only evidence correct, both wrong (Strict)\n",
    "both_correct_strict = len(df[df['label_correct'] == True][(df['evidence_correct_strict'] == True) | (df['label'] == 'NOT ENOUGH INFO')])\n",
    "only_label_correct_strict = len(df[df['label_correct'] == True][(df['evidence_correct_strict'] == False) & (df['label'] != 'NOT ENOUGH INFO')])\n",
    "only_evidence_correct_strict = len(df[df['label_correct'] == False][(df['evidence_correct_strict'] == True) & (df['label'] != 'NOT ENOUGH INFO')])\n",
    "both_wrong_strict = len(df[df['label_correct'] == False][(df['evidence_correct_strict'] == False) | (df['label'] == 'NOT ENOUGH INFO')])\n",
    "\n",
    "# Both correct, only label correct, only evidence correct, both wrong (Medium)\n",
    "both_correct_medium = len(df[df['label_correct'] == True][(df['evidence_correct_medium'] == True) | (df['label'] == 'NOT ENOUGH INFO')])\n",
    "only_label_correct_medium = len(df[df['label_correct'] == True][(df['evidence_correct_medium'] == False) & (df['label'] != 'NOT ENOUGH INFO')])\n",
    "only_evidence_correct_medium = len(df[df['label_correct'] == False][(df['evidence_correct_medium'] == True) & (df['label'] != 'NOT ENOUGH INFO')])\n",
    "both_wrong_medium = len(df[df['label_correct'] == False][(df['evidence_correct_medium'] == False) | (df['label'] == 'NOT ENOUGH INFO')])\n",
    "\n",
    "\n",
    "# Both correct, only label correct, only evidence correct, both wrong (Relaxed)\n",
    "both_correct_relaxed = len(df[df['label_correct'] == True][(df['evidence_correct_relaxed'] == True) | (df['label'] == 'NOT ENOUGH INFO')])\n",
    "only_label_correct_relaxed = len(df[df['label_correct'] == True][(df['evidence_correct_relaxed'] == False) & (df['label'] != 'NOT ENOUGH INFO')])\n",
    "only_evidence_correct_relaxed = len(df[df['label_correct'] == False][(df['evidence_correct_relaxed'] == True) & (df['label'] != 'NOT ENOUGH INFO')])\n",
    "both_wrong_relaxed = len(df[df['label_correct'] == False][(df['evidence_correct_relaxed'] == False) | (df['label'] == 'NOT ENOUGH INFO')])\n",
    "\n",
    "joint_correctness_df = pd.DataFrame({\n",
    "    'Strict': [both_correct_strict, only_label_correct_strict, only_evidence_correct_strict, both_wrong_strict],\n",
    "    'Medium': [both_correct_medium, only_label_correct_medium, only_evidence_correct_medium, both_wrong_medium],\n",
    "    'Relaxed': [both_correct_relaxed, only_label_correct_relaxed, only_evidence_correct_relaxed, both_wrong_relaxed],\n",
    "}, index=['Both correct', 'Only label correct', 'Only evidence correct', 'Both wrong'])\n",
    "\n",
    "\n",
    "# Get another df with column percentages\n",
    "joint_correctness_ratio_df = joint_correctness_df / joint_correctness_df.sum(axis=0)\n",
    "\n",
    "display(joint_correctness_df)\n",
    "\n",
    "pd.options.display.float_format = '{:,.2f} %'.format\n",
    "display(joint_correctness_ratio_df * 100)\n",
    "\n",
    "\n",
    "joint_correctness_ratio_df.transpose().plot(kind='bar', stacked=True, figsize=(10, 6))\n",
    "plt.xlabel('Strictness')\n",
    "plt.xticks(rotation=0)\n",
    "plt.ylabel('Ratio')\n",
    "plt.title('Label and Evidence Correctness (Ratio)')\n",
    "plt.show()\n"
   ]
  },
  {
   "cell_type": "code",
   "execution_count": 7,
   "metadata": {},
   "outputs": [],
   "source": [
    "error_analysis_fs = df_fs.head()\n",
    "error_analysis_fr = df_fr.head()\n",
    "\n",
    "error_analysis_fr.to_csv('../data/error_analysis_fr.csv', sep=';')\n",
    "error_analysis_fs.to_csv('../data/error_analysis_fs.csv', sep=';')"
   ]
  },
  {
   "cell_type": "code",
   "execution_count": 11,
   "metadata": {},
   "outputs": [],
   "source": [
    "df.to_csv('../results/annotated_dataset.csv', sep=';', index=False)"
   ]
  }
 ],
 "metadata": {
  "kernelspec": {
   "display_name": "Python 3",
   "language": "python",
   "name": "python3"
  },
  "language_info": {
   "codemirror_mode": {
    "name": "ipython",
    "version": 3
   },
   "file_extension": ".py",
   "mimetype": "text/x-python",
   "name": "python",
   "nbconvert_exporter": "python",
   "pygments_lexer": "ipython3",
   "version": "3.9.12"
  }
 },
 "nbformat": 4,
 "nbformat_minor": 0
}
